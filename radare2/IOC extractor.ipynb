{
 "cells": [
  {
   "cell_type": "markdown",
   "metadata": {},
   "source": [
    "# IOC extractor using Radare2\n",
    "\n",
    "This notebook extract IOCs from binaries using Radare2. IOC matchers can be easily extended by adding an extra matcher. Every matcher result can be run through pipes, where currently only MISP is supported."
   ]
  },
  {
   "cell_type": "markdown",
   "metadata": {},
   "source": [
    "### Load environment"
   ]
  },
  {
   "cell_type": "code",
   "execution_count": 44,
   "metadata": {},
   "outputs": [],
   "source": [
    "try:\n",
    "    # if using jupyter within cutter, use the following. This will use the current active binary.\n",
    "    import cutter\n",
    "    # we'll assign cutter to variable r2 to be consistent with r2pipe\n",
    "    r2 = cutter\n",
    "except ModuleNotFoundError as exc:\n",
    "    # using r2pipe to open a binary\n",
    "    import r2pipe\n",
    "    r2 = r2pipe.open(\"/home/jovyan/radare2/malware/apache\")"
   ]
  },
  {
   "cell_type": "markdown",
   "metadata": {},
   "source": [
    "### Start analysis"
   ]
  },
  {
   "cell_type": "code",
   "execution_count": null,
   "metadata": {},
   "outputs": [],
   "source": [
    "%time r2.cmd('aaa')"
   ]
  },
  {
   "cell_type": "markdown",
   "metadata": {},
   "source": [
    "### Extract strings"
   ]
  },
  {
   "cell_type": "code",
   "execution_count": null,
   "metadata": {
    "scrolled": true
   },
   "outputs": [],
   "source": [
    "print(r2.cmd('iz'))"
   ]
  },
  {
   "cell_type": "markdown",
   "metadata": {},
   "source": [
    "### Show information about binary"
   ]
  },
  {
   "cell_type": "code",
   "execution_count": null,
   "metadata": {},
   "outputs": [],
   "source": [
    "from pprint import pprint\n",
    "r = json.loads(r2.cmd('ij'))\n",
    "pprint(r)\n",
    "print(r.get('bin').get('arch'))"
   ]
  },
  {
   "cell_type": "markdown",
   "metadata": {},
   "source": [
    "###  MISP\n",
    "\n",
    "The following cell will configure a MISP pipe which will run each extracted IOC through MISP. Uncomment and configure the misp_url and misp_key."
   ]
  },
  {
   "cell_type": "code",
   "execution_count": 84,
   "metadata": {},
   "outputs": [],
   "source": [
    "# install pymisp if not exists\n",
    "try:\n",
    "    from pymisp import ExpandedPyMISP\n",
    "except ModuleNotFoundError as exc:\n",
    "    print(\"Could not find module pymisp, installing...\")\n",
    "    !pip install pymisp"
   ]
  },
  {
   "cell_type": "code",
   "execution_count": null,
   "metadata": {},
   "outputs": [],
   "source": [
    "# The URL of the MISP instance to connect to\n",
    "# make sure the radare2-notebook container can reach MISP\n",
    "# misp_url = 'https://172.17.0.3:443'\n",
    "\n",
    "# Can be found in the MISP web interface under ||\n",
    "# http://+MISP_URL+/users/view/me -> Authkey\n",
    "# misp_key = 'V9RraxF0YT6riCT1TBD1D1TdabxI1MsVJp12E8pq'\n",
    "\n",
    "# Should PyMISP verify the MISP certificate\n",
    "# not recommended\n",
    "misp_verifycert = False\n",
    "import urllib3\n",
    "urllib3.disable_warnings()\n",
    "print(\"warning: disabled certificate verification\")"
   ]
  },
  {
   "cell_type": "markdown",
   "metadata": {},
   "source": [
    "### Configure the matchers and pipes"
   ]
  },
  {
   "cell_type": "code",
   "execution_count": null,
   "metadata": {},
   "outputs": [],
   "source": [
    "import r2pipe\n",
    "import json\n",
    "import struct\n",
    "import re\n",
    "import base64\n",
    "from pprint import pprint, pformat\n",
    "import urllib.parse\n",
    "\n",
    "IP_MATCHER = re.compile(\"(\\d{1,3}\\.\\d{1,3}\\.\\d{1,3}\\.\\d{1,3}(?:[:]\\d+)?)\")\n",
    "URL_MATCHER = re.compile('(?:(?:https?|ftp|file)://|www\\.|ftp\\.)[-A-Z0-9+&@#/%=~_|$?!:,.]*[A-Z0-9+&@#/%=~_|$]', re.IGNORECASE)\n",
    "EMAIL_MATCHER = re.compile('([A-Z0-9._%+-]+@[A-Z0-9.-]+\\.[A-Z]{2,4})', re.IGNORECASE)\n",
    "\n",
    "def regex_matcher(matcher):\n",
    "    return lambda st: matcher.findall(st)\n",
    "\n",
    "def contains_matcher(s):\n",
    "    return lambda st: [st] if s in st else []\n",
    "                \n",
    "matchers = [regex_matcher(IP_MATCHER), regex_matcher(URL_MATCHER), regex_matcher(EMAIL_MATCHER), contains_matcher('\\\\e['), contains_matcher('HTTP')]\n",
    "\n",
    "pipes = []\n",
    "\n",
    "def misp_pipe():\n",
    "    print(\"Using MISP pipe (url={})\".format(misp_url))\n",
    "    from pymisp import ExpandedPyMISP\n",
    "    misp = ExpandedPyMISP(misp_url, misp_key, misp_verifycert, debug=False)\n",
    "    def fn(ioc):\n",
    "        results = misp.search(value=ioc)  # everything updated since that timestamp\n",
    "        for result in results:\n",
    "            print (\">>> MISP result found: {}\".format(urllib.parse.urljoin(misp_url, \"/events/view/\" + result.get('Event').get('id'))))\n",
    "        return r\n",
    "        \n",
    "    return fn\n",
    "\n",
    "if misp_url != None:\n",
    "    pipes.append(misp_pipe())\n",
    "\n",
    "def print_s(s, r):\n",
    "    print('0x{:08x} 0x{:08x} {:10} {:4} {:10} {}'.format(s.get('paddr'), s.get('vaddr'), s.get('type'), s.get('length'), s.get('section'), r))"
   ]
  },
  {
   "cell_type": "markdown",
   "metadata": {},
   "source": [
    "### Start IOC extraction"
   ]
  },
  {
   "cell_type": "code",
   "execution_count": 88,
   "metadata": {},
   "outputs": [
    {
     "name": "stdout",
     "output_type": "stream",
     "text": [
      "0x0010c3be 0x0050c3be ascii        15 .rodata    \\e[01;32mresumed\n",
      ">>> MISP result found: https://172.17.0.3:443/events/view/2\n",
      "0x0010c3f0 0x0050c3f0 ascii        49 .rodata    \\e[01;33mpaused\\e[0m, press \\e[01;35mr\\e[0m to resume\n",
      "0x0010c4e0 0x0050c4e0 ascii        71 .rodata    \\e[1;32m * \\e[0m\\e[1;37mPOOL #%-7zu\\e[0m\\e[1;%dm%s\\e[0m variant \\e[1;37m%s\\e[0m\n",
      "0x0010c528 0x0050c528 ascii        60 .rodata    \\e[1;32m * \\e[0m\\e[1;37m%-13s\\e[0m\\e[1;36m%s/%s\\e[0m\\e[1;37m %s\\e[0m\n",
      "0x0010c568 0x0050c568 ascii        41 .rodata    \\e[1;32m * \\e[0m\\e[1;37m%-13slibuv/%s %s\\e[0m\n",
      "0x0010f8b0 0x0050f8b0 ascii         5 .rodata    \\e[0m\\n\n",
      "0x0010f8b6 0x0050f8b6 ascii         7 .rodata    \\e[0;31m\n",
      "0x0010f8be 0x0050f8be ascii         7 .rodata    \\e[0;33m\n",
      "0x0010f8c6 0x0050f8c6 ascii         7 .rodata    \\e[1;37m\n",
      "0x0010f8ce 0x0050f8ce ascii         5 .rodata    \\e[90m\n",
      "0x0011031d 0x0051031d ascii         7 .rodata    \\e[1;30m\n",
      "0x00110388 0x00510388 ascii        61 .rodata    \\e[1;37muse pool \\e[0m\\e[1;36m%s:%d \\e[0m\\e[1;32m%s\\e[0m \\e[1;30m%s \n",
      "0x001103c8 0x005103c8 ascii        81 .rodata    \\e[01;31mrejected\\e[0m (%ld/%ld) diff \\e[01;37m%u\\e[0m \\e[31m\"%s\"\\e[0m \\e[01;30m(%lu ms)\n",
      "0x00110450 0x00510450 ascii        67 .rodata    \\e[01;32maccepted\\e[0m (%ld/%ld) diff \\e[01;37m%u\\e[0m \\e[01;30m(%lu ms)\n",
      "0x001104c0 0x005104c0 ascii        78 .rodata    \\e[1;35mnew job\\e[0m from \\e[1;37m%s:%d\\e[0m diff \\e[1;37m%d\\e[0m algo \\e[1;37m%s\\e[0m\n",
      "0x001106c4 0x005106c4 ascii         8 .rodata    \\e[1;31m-\n",
      "0x001106cd 0x005106cd ascii         7 .rodata    \\e[1;31m\n",
      "0x0011076e 0x0051076e ascii        15 .rodata    \\e[1;31mnone\\e[0m\n",
      "0x0011077e 0x0051077e ascii        16 .rodata    \\e[1;32mintel\\e[0m\n",
      "0x0011078f 0x0051078f ascii        16 .rodata    \\e[1;32mryzen\\e[0m\n",
      "0x001107a0 0x005107a0 ascii        93 .rodata    \\e[1;32m * \\e[0m\\e[1;37m%-13s\\e[0m\\e[1;36m%d\\e[0m\\e[1;37m, %s, av=%d, %sdonate=%d%%\\e[0m\\e[1;37m%s\\e[0m\n",
      "0x00110828 0x00510828 ascii        73 .rodata    \\e[1;32m * \\e[0m\\e[1;37m%-13s\\e[0m\\e[1;36m%d\\e[0m\\e[1;37m, %s, %sdonate=%d%%\\e[0m\n",
      "0x00110878 0x00510878 ascii        37 .rodata    \\e[1;32m * \\e[0m\\e[1;37m%-13sauto:%s\\e[0m\n",
      "0x001108a0 0x005108a0 ascii        32 .rodata    \\e[1;32m * \\e[0m\\e[1;37m%-13s%s\\e[0m\n",
      "0x001108c8 0x005108c8 ascii        49 .rodata    \\e[1;32m * \\e[0m\\e[1;37m%-13s%s (%d)\\e[0m %sx64 %sAES\n",
      "0x00110900 0x00510900 ascii        45 .rodata    \\e[1;32m * \\e[0m\\e[1;37m%-13s%.1f MB/%.1f MB\\e[0m\n",
      "0x00110930 0x00510930 ascii       127 .rodata    \\e[1;32m * \\e[0m\\e[1;37mCOMMANDS     \\e[0m\\e[1;35mh\\e[0m\\e[1;37mashrate, \\e[0m\\e[1;35mp\\e[0m\\e[1;37mause, \\e[0m\\e[1;35mr\\e[0m\\e[1;37mesume\\e[0m\n",
      "0x001124d0 0x005124d0 ascii        96 .rodata    \\e[1;37mspeed\\e[0m 10s/60s/15m \\e[1;36m%s\\e[0m\\e[0;36m %s %s \\e[0m\\e[1;36mH/s\\e[0m max \\e[1;36m%s H/s\\e[0m\n",
      "0x001131c8 0x005131c8 ascii         7 .rodata    \\e[1;33m\n",
      "0x00113230 0x00513230 ascii       110 .rodata    \\e[1;32mREADY (CPU)\\e[0m threads \\e[1;36m%zu(%zu)\\e[0m huge pages %s%zu/%zu %1.0f%%\\e[0m memory \\e[1;36m%zu.0 MB\\e[0m\n"
     ]
    }
   ],
   "source": [
    "strings = json.loads(r2.cmd('izj'))\n",
    "for s in strings:\n",
    "    try:\n",
    "        st = base64.b64decode(s.get('string')).decode(s.get('type'))\n",
    "\n",
    "        for matcher in matchers:\n",
    "            matches = matcher(st)\n",
    "            for match in matches: \n",
    "                print_s (s, match)\n",
    "                for pipe in pipes:\n",
    "                    pipe(match)\n",
    "                    pass\n",
    "    except ValueError as e:\n",
    "        # print(e)\n",
    "        continue\n",
    "    except LookupError as e:\n",
    "        # print(e)\n",
    "        continue"
   ]
  },
  {
   "cell_type": "code",
   "execution_count": null,
   "metadata": {},
   "outputs": [],
   "source": []
  },
  {
   "cell_type": "code",
   "execution_count": null,
   "metadata": {},
   "outputs": [],
   "source": []
  }
 ],
 "metadata": {
  "kernelspec": {
   "display_name": "Python 3",
   "language": "python",
   "name": "python3"
  },
  "language_info": {
   "codemirror_mode": {
    "name": "ipython",
    "version": 3
   },
   "file_extension": ".py",
   "mimetype": "text/x-python",
   "name": "python",
   "nbconvert_exporter": "python",
   "pygments_lexer": "ipython3",
   "version": "3.6.7"
  }
 },
 "nbformat": 4,
 "nbformat_minor": 2
}
